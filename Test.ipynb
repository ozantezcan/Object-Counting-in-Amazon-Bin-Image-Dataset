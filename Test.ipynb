{
 "cells": [
  {
   "cell_type": "code",
   "execution_count": 4,
   "metadata": {},
   "outputs": [
    {
     "data": {
      "text/plain": [
       "5"
      ]
     },
     "execution_count": 4,
     "metadata": {},
     "output_type": "execute_result"
    }
   ],
   "source": [
    "A = [2, 4, 6]\n",
    "\n",
    "a = [int(x) for x in '{0:0b}'.format(6)][::-1]\n",
    "\n",
    "\n",
    "len('{0:0b}'.format(16))"
   ]
  },
  {
   "cell_type": "code",
   "execution_count": 222,
   "metadata": {},
   "outputs": [
    {
     "data": {
      "text/plain": [
       "0"
      ]
     },
     "execution_count": 222,
     "metadata": {},
     "output_type": "execute_result"
    }
   ],
   "source": [
    "18 % 1"
   ]
  },
  {
   "cell_type": "code",
   "execution_count": 156,
   "metadata": {},
   "outputs": [
    {
     "data": {
      "text/plain": [
       "[[3, 2, 0], [4, 5, 6]]"
      ]
     },
     "execution_count": 156,
     "metadata": {},
     "output_type": "execute_result"
    }
   ],
   "source": [
    "A = [[0,2,0], [4,5,6]]\n",
    "\n",
    "A[0][A[0]==0] = 3\n",
    "\n",
    "A"
   ]
  },
  {
   "cell_type": "code",
   "execution_count": 8,
   "metadata": {},
   "outputs": [
    {
     "data": {
      "text/plain": [
       "array([0.01, 0.  , 0.  , 0.99])"
      ]
     },
     "execution_count": 8,
     "metadata": {},
     "output_type": "execute_result"
    }
   ],
   "source": [
    "import numpy as np "
   ]
  },
  {
   "cell_type": "code",
   "execution_count": 130,
   "metadata": {},
   "outputs": [
    {
     "data": {
      "text/plain": [
       "array([[0.12, 0.02, 0.87],\n",
       "       [0.16, 0.42, 0.42],\n",
       "       [0.67, 0.09, 0.24]])"
      ]
     },
     "execution_count": 130,
     "metadata": {},
     "output_type": "execute_result"
    }
   ],
   "source": [
    "def softmax(inp, tau = 1):\n",
    "    out = np.exp(inp/tau)\n",
    "    out = out / np.sum(out, axis=1).reshape(-1,1)\n",
    "    return out\n",
    "\n",
    "inp = np.array([ [3,1,5], [5,6,6], [7,5,6]])\n",
    "np.round(softmax(inp), decimals=2)"
   ]
  },
  {
   "cell_type": "code",
   "execution_count": 131,
   "metadata": {},
   "outputs": [
    {
     "name": "stdout",
     "output_type": "stream",
     "text": [
      "[[0.11731043 0.01587624 0.86681333]\n",
      " [0.1553624  0.4223188  0.4223188 ]\n",
      " [0.66524096 0.09003057 0.24472847]]\n"
     ]
    },
    {
     "data": {
      "text/plain": [
       "array([2, 1, 0])"
      ]
     },
     "execution_count": 131,
     "metadata": {},
     "output_type": "execute_result"
    }
   ],
   "source": [
    "out = softmax(inp)\n",
    "out_cdf = np.cumsum(out, axis=1)\n",
    "print(out)\n",
    "np.sum((out_cdf <= .5).astype(np.int), axis=1)"
   ]
  },
  {
   "cell_type": "code",
   "execution_count": 65,
   "metadata": {},
   "outputs": [
    {
     "name": "stdout",
     "output_type": "stream",
     "text": [
      "[ 0.1  -0.03 -0.03  0.06 -0.09  0.99]\n"
     ]
    },
    {
     "data": {
      "text/plain": [
       "array([0.01, 0.01, 0.01, 0.01, 0.  , 0.96])"
      ]
     },
     "execution_count": 65,
     "metadata": {},
     "output_type": "execute_result"
    }
   ],
   "source": [
    "def cdf2pmf(cdf):\n",
    "    diff_arr = np.eye(len(cdf))\n",
    "    for k in range(len(cdf)-1):\n",
    "        diff_arr[k+1, k] = -1\n",
    "        \n",
    "    print(np.matmul(cdf, diff_arr))\n",
    "    return np.matmul(cdf, diff_arr)\n",
    "\n",
    "cdf = np.array([1., .9, .93, .96, .9, .99])\n",
    "np.round(softmax(cdf2pmf(cdf), tau = 0.2), decimals=2)"
   ]
  },
  {
   "cell_type": "code",
   "execution_count": null,
   "metadata": {},
   "outputs": [],
   "source": []
  }
 ],
 "metadata": {
  "kernelspec": {
   "display_name": "Python 3",
   "language": "python",
   "name": "python3"
  },
  "language_info": {
   "codemirror_mode": {
    "name": "ipython",
    "version": 3
   },
   "file_extension": ".py",
   "mimetype": "text/x-python",
   "name": "python",
   "nbconvert_exporter": "python",
   "pygments_lexer": "ipython3",
   "version": "3.6.5"
  }
 },
 "nbformat": 4,
 "nbformat_minor": 2
}
