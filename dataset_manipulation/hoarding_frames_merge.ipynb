{
 "cells": [
  {
   "cell_type": "code",
   "execution_count": 1,
   "metadata": {},
   "outputs": [],
   "source": [
    "import os\n",
    "import random\n",
    "import shutil"
   ]
  },
  {
   "cell_type": "code",
   "execution_count": 6,
   "metadata": {},
   "outputs": [],
   "source": [
    "for k in range(1, 10):\n",
    "    os.makedirs('../../datasets/hoarding/frames/all_inclusive/val/CIR ' + str(k))"
   ]
  },
  {
   "cell_type": "code",
   "execution_count": 5,
   "metadata": {
    "scrolled": true
   },
   "outputs": [
    {
     "name": "stdout",
     "output_type": "stream",
     "text": [
      "k = 1\n",
      "k = 2\n",
      "k = 3\n",
      "k = 4\n",
      "k = 5\n",
      "k = 6\n",
      "k = 7\n",
      "k = 8\n",
      "k = 9\n",
      "k = 1\n",
      "k = 2\n",
      "k = 3\n",
      "k = 4\n",
      "k = 5\n",
      "k = 6\n",
      "k = 7\n",
      "k = 8\n",
      "k = 9\n",
      "k = 1\n",
      "k = 2\n",
      "k = 3\n",
      "k = 4\n",
      "k = 5\n",
      "k = 6\n",
      "k = 7\n",
      "k = 8\n",
      "k = 9\n"
     ]
    }
   ],
   "source": [
    "# Coppy the images to all_inclusive\n",
    "\n",
    "folder_names = {'BR':'CIRs Bedroom', 'LR':'CIRs Living Room', 'K':'CIRs Kitchen'}\n",
    "\n",
    "for name, folder in folder_names.items():\n",
    "    for k in range(1, 10):\n",
    "        print('k = ' + str(k))\n",
    "        fnames = os.listdir('../../datasets/hoarding/frames/' + folder + '/CIR' + str(k))\n",
    "        for fname in fnames:\n",
    "            src = '../../datasets/hoarding/frames/' + folder + '/CIR' + str(k) + '/' + fname\n",
    "            dest = '../../datasets/hoarding/frames/all_inclusive/CIR ' + str(k) + '/' + name + '_' + fname\n",
    "            shutil.copy(src,dest)"
   ]
  },
  {
   "cell_type": "code",
   "execution_count": 5,
   "metadata": {},
   "outputs": [],
   "source": [
    "# Eyeball Dataset\n",
    "\n",
    "random.seed(1)\n",
    "num_per_class = 25\n",
    "\n",
    "for k in range(10):\n",
    "    print('k = ' + str(k))\n",
    "    fnames = os.listdir('../Images/train/balanced/val/'+ str(k))\n",
    "    random.shuffle(fnames)\n",
    "    for l in range(num_per_class):\n",
    "        fname = fnames[l]\n",
    "        src = '../Images/train/0to5/' + str(k) + '/' + fname\n",
    "        dest = '../Images/train/balanced/train/' + str(k) + '/' + fname\n",
    "        shutil.copy(src,dest)"
   ]
  }
 ],
 "metadata": {
  "kernelspec": {
   "display_name": "Python 3",
   "language": "python",
   "name": "python3"
  },
  "language_info": {
   "codemirror_mode": {
    "name": "ipython",
    "version": 3
   },
   "file_extension": ".py",
   "mimetype": "text/x-python",
   "name": "python",
   "nbconvert_exporter": "python",
   "pygments_lexer": "ipython3",
   "version": "3.6.5"
  }
 },
 "nbformat": 4,
 "nbformat_minor": 2
}
