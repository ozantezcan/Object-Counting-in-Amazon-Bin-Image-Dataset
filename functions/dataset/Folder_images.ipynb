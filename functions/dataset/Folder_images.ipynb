{
 "cells": [
  {
   "cell_type": "code",
   "execution_count": 1,
   "metadata": {
    "collapsed": true
   },
   "outputs": [],
   "source": [
    "import shutil\n",
    "import json\n",
    "import os\n",
    "import numpy as np\n",
    "import matplotlib.pyplot as plt"
   ]
  },
  {
   "cell_type": "markdown",
   "metadata": {},
   "source": [
    "# Foldering the Images\n",
    "\n",
    "This file assumes that you downloaded amazon bin image dataset using \n",
    "[this link](https://aws.amazon.com/public-datasets/amazon-bin-images/).\n",
    "You may need to open an AWS account for downloading the images.\n",
    "Then, put all of the images inside ../images and all of the metadata inside ../metadata.\n",
    "\n",
    "Running the functions in that notebook will create 11 subfolders inside ../images for the number of objects in each bin. The first 10 folders will be named as 0, 1, 2, ..., 9 and the last folder will be 10plus which will include all of the images with 10 objects or more.\n",
    "\n"
   ]
  },
  {
   "cell_type": "code",
   "execution_count": 3,
   "metadata": {
    "collapsed": false
   },
   "outputs": [],
   "source": [
    "root_dir='/media/mtezcan/New Volume/amazon/images/'\n",
    "for i in range(10):\n",
    "    if not os.path.exists(root_dir+str(i)):\n",
    "        os.makedirs(root_dir+str(i))\n",
    "    \n",
    "if not os.path.exists(root_dir+'10plus'):\n",
    "    os.makedirs(root_dir+'10plus')"
   ]
  },
  {
   "cell_type": "code",
   "execution_count": 5,
   "metadata": {
    "collapsed": false
   },
   "outputs": [],
   "source": [
    "metadata_dir='../metadata'\n",
    "images_dir='../images'\n",
    "\n",
    "json_dirs=os.listdir(metadata_dir)\n",
    "\n",
    "for json_dir in json_dirs:\n",
    "    json_file=open(metadata_dir+'/'+json_dir)\n",
    "    metadata = json.load(json_file)\n",
    "    object_count = metadata['EXPECTED_QUANTITY']\n",
    "    \n",
    "    img_dir=images_dir+'/'+json_dir[:-4]+'jpg'\n",
    "    if(object_count<10):\n",
    "        new_img_dir=images_dir+'/'+str(object_count)+'/'+json_dir[:-4]+'jpg'\n",
    "    else:\n",
    "        new_img_dir=images_dir+'/10plus/'+json_dir[:-4]+'jpg'\n",
    "    shutil.move(img_dir,new_img_dir)\n",
    "    "
   ]
  },
  {
   "cell_type": "code",
   "execution_count": 21,
   "metadata": {
    "collapsed": false
   },
   "outputs": [
    {
     "name": "stdout",
     "output_type": "stream",
     "text": [
      "False\n"
     ]
    }
   ],
   "source": [
    "a='123.jg'\n",
    "print(a.endswith('.jpg'))"
   ]
  },
  {
   "cell_type": "markdown",
   "metadata": {},
   "source": [
    "# Creating Training and Validation Splits\n"
   ]
  },
  {
   "cell_type": "code",
   "execution_count": 3,
   "metadata": {
    "collapsed": false
   },
   "outputs": [
    {
     "name": "stdout",
     "output_type": "stream",
     "text": [
      "['8', '9']\n",
      "In 8\n",
      "In 9\n"
     ]
    }
   ],
   "source": [
    "rootdir='../../images'\n",
    "val_images=np.loadtxt('./random_val.txt',dtype=str)\n",
    "#print(np.any(val_images=='10'))\n",
    "\n",
    "subdirs=os.listdir(rootdir)\n",
    "print(subdirs)\n",
    "\n",
    "if not os.path.exists(rootdir+'/train'):\n",
    "        os.makedirs(rootdir+'/train')\n",
    "if not os.path.exists(rootdir+'/val'):\n",
    "        os.makedirs(rootdir+'/val')    \n",
    "        \n",
    "for subdir in subdirs:\n",
    "    print('In '+subdir)\n",
    "    if not os.path.exists(rootdir+'/train/'+subdir):\n",
    "        os.makedirs(rootdir+'/train/'+subdir)\n",
    "    if not os.path.exists(rootdir+'/val/'+subdir):\n",
    "        os.makedirs(rootdir+'/val/'+subdir)\n",
    "    \n",
    "    imNames=os.listdir(rootdir+'/'+subdir)\n",
    "    for imName in imNames:\n",
    "        if imName.endswith('.jpg'):\n",
    "            if np.any(val_images==imName[:-4]):\n",
    "                shutil.copy2(rootdir+'/'+subdir+'/'+imName,rootdir+'/val/'+subdir+'/'+imName)\n",
    "            else:\n",
    "                shutil.copy2(rootdir+'/'+subdir+'/'+imName,rootdir+'/train/'+subdir+'/'+imName)    \n",
    "    "
   ]
  },
  {
   "cell_type": "code",
   "execution_count": 4,
   "metadata": {
    "collapsed": false
   },
   "outputs": [],
   "source": [
    "rootdir = '/media/mtezcan/New Volume/Extreme Picture Finder/all images/train'\n",
    "for i in range(1, 10):\n",
    "    if not os.path.exists(rootdir+'/CIR ' + str(i)):\n",
    "        os.makedirs(rootdir+'/CIR ' + str(i))\n",
    "\n",
    "imNames=os.listdir(rootdir)\n",
    "for imName in imNames:\n",
    "    if (imName.endswith('.jpeg') or imName.endswith('.jpg') or imName.endswith('.JPEG') or \\\n",
    "    imName.endswith('.JPG') or imName.endswith('.png') or imName.endswith('.PNG') or \\\n",
    "    imName.endswith('.tiff') or imName.endswith('.tif') or imName.endswith('.TIFF') or \\\n",
    "    imName.endswith('.TIF') or imName.endswith('.bmp') or imName.endswith('.BMP')) and\\\n",
    "    imName.startswith('CIR'):\n",
    "        \n",
    "        cir = int(imName[3])\n",
    "        img_dir = rootdir + '/' + imName\n",
    "        new_img_dir = rootdir + '/CIR ' + str(cir) + '/' + imName\n",
    "        shutil.move(img_dir,new_img_dir)\n",
    "    "
   ]
  },
  {
   "cell_type": "code",
   "execution_count": null,
   "metadata": {
    "collapsed": true
   },
   "outputs": [],
   "source": []
  }
 ],
 "metadata": {
  "kernelspec": {
   "display_name": "Python 3",
   "language": "python",
   "name": "python3"
  },
  "language_info": {
   "codemirror_mode": {
    "name": "ipython",
    "version": 3
   },
   "file_extension": ".py",
   "mimetype": "text/x-python",
   "name": "python",
   "nbconvert_exporter": "python",
   "pygments_lexer": "ipython3",
   "version": "3.6.0"
  }
 },
 "nbformat": 4,
 "nbformat_minor": 2
}
