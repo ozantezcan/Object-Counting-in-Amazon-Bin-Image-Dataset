{
 "cells": [
  {
   "cell_type": "code",
   "execution_count": 34,
   "metadata": {
    "collapsed": true
   },
   "outputs": [],
   "source": [
    "import numpy as np # linear algebra\n",
    "import pandas as pd # data processing, CSV file I/O (e.g. pd.read_csv)\n",
    "import matplotlib.pyplot as plt\n",
    "import seaborn as sns\n",
    "import random\n",
    "color = sns.color_palette()\n",
    "\n",
    "%matplotlib inline\n",
    "\n",
    "pd.options.mode.chained_assignment = None\n",
    "pd.options.display.max_columns = 999\n",
    "split = .2\n",
    "num_classes = 9"
   ]
  },
  {
   "cell_type": "code",
   "execution_count": 35,
   "metadata": {
    "collapsed": false
   },
   "outputs": [],
   "source": [
    "train_df_red = pd.read_csv(\"./dataset/ordinal/Wine Quality/winequality-red.csv\", sep=';')\n",
    "train_df_white = pd.read_csv(\"./dataset/ordinal/Wine Quality/winequality-white.csv\", sep=';')"
   ]
  },
  {
   "cell_type": "code",
   "execution_count": 36,
   "metadata": {
    "collapsed": false
   },
   "outputs": [
    {
     "name": "stdout",
     "output_type": "stream",
     "text": [
      "Number of features is 11\n",
      "Number of data points is 4898\n"
     ]
    },
    {
     "data": {
      "text/html": [
       "<div>\n",
       "<table border=\"1\" class=\"dataframe\">\n",
       "  <thead>\n",
       "    <tr style=\"text-align: right;\">\n",
       "      <th></th>\n",
       "      <th>fixed acidity</th>\n",
       "      <th>volatile acidity</th>\n",
       "      <th>citric acid</th>\n",
       "      <th>residual sugar</th>\n",
       "      <th>chlorides</th>\n",
       "      <th>free sulfur dioxide</th>\n",
       "      <th>total sulfur dioxide</th>\n",
       "      <th>density</th>\n",
       "      <th>pH</th>\n",
       "      <th>sulphates</th>\n",
       "      <th>alcohol</th>\n",
       "      <th>label</th>\n",
       "    </tr>\n",
       "  </thead>\n",
       "  <tbody>\n",
       "    <tr>\n",
       "      <th>2414</th>\n",
       "      <td>6.2</td>\n",
       "      <td>0.38</td>\n",
       "      <td>0.18</td>\n",
       "      <td>7.4</td>\n",
       "      <td>0.095</td>\n",
       "      <td>28.0</td>\n",
       "      <td>195.0</td>\n",
       "      <td>0.99773</td>\n",
       "      <td>3.53</td>\n",
       "      <td>0.71</td>\n",
       "      <td>9.2</td>\n",
       "      <td>4</td>\n",
       "    </tr>\n",
       "    <tr>\n",
       "      <th>1584</th>\n",
       "      <td>6.4</td>\n",
       "      <td>0.25</td>\n",
       "      <td>0.74</td>\n",
       "      <td>7.8</td>\n",
       "      <td>0.045</td>\n",
       "      <td>52.0</td>\n",
       "      <td>209.0</td>\n",
       "      <td>0.99560</td>\n",
       "      <td>3.21</td>\n",
       "      <td>0.42</td>\n",
       "      <td>9.2</td>\n",
       "      <td>6</td>\n",
       "    </tr>\n",
       "    <tr>\n",
       "      <th>3248</th>\n",
       "      <td>6.4</td>\n",
       "      <td>0.25</td>\n",
       "      <td>0.37</td>\n",
       "      <td>4.5</td>\n",
       "      <td>0.039</td>\n",
       "      <td>41.0</td>\n",
       "      <td>147.0</td>\n",
       "      <td>0.99210</td>\n",
       "      <td>3.18</td>\n",
       "      <td>0.40</td>\n",
       "      <td>11.1</td>\n",
       "      <td>7</td>\n",
       "    </tr>\n",
       "    <tr>\n",
       "      <th>645</th>\n",
       "      <td>6.3</td>\n",
       "      <td>0.26</td>\n",
       "      <td>0.25</td>\n",
       "      <td>7.8</td>\n",
       "      <td>0.058</td>\n",
       "      <td>44.0</td>\n",
       "      <td>166.0</td>\n",
       "      <td>0.99610</td>\n",
       "      <td>3.24</td>\n",
       "      <td>0.41</td>\n",
       "      <td>9.0</td>\n",
       "      <td>5</td>\n",
       "    </tr>\n",
       "    <tr>\n",
       "      <th>3163</th>\n",
       "      <td>7.1</td>\n",
       "      <td>0.36</td>\n",
       "      <td>0.37</td>\n",
       "      <td>4.8</td>\n",
       "      <td>0.019</td>\n",
       "      <td>39.0</td>\n",
       "      <td>114.0</td>\n",
       "      <td>0.99036</td>\n",
       "      <td>3.08</td>\n",
       "      <td>0.49</td>\n",
       "      <td>12.7</td>\n",
       "      <td>7</td>\n",
       "    </tr>\n",
       "  </tbody>\n",
       "</table>\n",
       "</div>"
      ],
      "text/plain": [
       "      fixed acidity  volatile acidity  citric acid  residual sugar  chlorides  \\\n",
       "2414            6.2              0.38         0.18             7.4      0.095   \n",
       "1584            6.4              0.25         0.74             7.8      0.045   \n",
       "3248            6.4              0.25         0.37             4.5      0.039   \n",
       "645             6.3              0.26         0.25             7.8      0.058   \n",
       "3163            7.1              0.36         0.37             4.8      0.019   \n",
       "\n",
       "      free sulfur dioxide  total sulfur dioxide  density    pH  sulphates  \\\n",
       "2414                 28.0                 195.0  0.99773  3.53       0.71   \n",
       "1584                 52.0                 209.0  0.99560  3.21       0.42   \n",
       "3248                 41.0                 147.0  0.99210  3.18       0.40   \n",
       "645                  44.0                 166.0  0.99610  3.24       0.41   \n",
       "3163                 39.0                 114.0  0.99036  3.08       0.49   \n",
       "\n",
       "      alcohol  label  \n",
       "2414      9.2      4  \n",
       "1584      9.2      6  \n",
       "3248     11.1      7  \n",
       "645       9.0      5  \n",
       "3163     12.7      7  "
      ]
     },
     "execution_count": 36,
     "metadata": {},
     "output_type": "execute_result"
    }
   ],
   "source": [
    "train_df = train_df_white.copy().sample(frac=1, random_state=1)\n",
    "columns = list(train_df.columns)\n",
    "columns[-1] = 'label'\n",
    "train_df.columns = columns\n",
    "print('Number of features is ' + str(len(train_df.columns)-1))\n",
    "print('Number of data points is ' + str(len(train_df)))\n",
    "train_df.head()"
   ]
  },
  {
   "cell_type": "code",
   "execution_count": 37,
   "metadata": {
    "collapsed": false
   },
   "outputs": [
    {
     "name": "stdout",
     "output_type": "stream",
     "text": [
      "Number of classes is 7\n"
     ]
    },
    {
     "data": {
      "text/plain": [
       "(array([   20.,   163.,  1457.,  2198.,   880.,   175.,     5.]),\n",
       " array([0, 1, 2, 3, 4, 5, 6, 7]),\n",
       " <a list of 7 Patch objects>)"
      ]
     },
     "execution_count": 37,
     "metadata": {},
     "output_type": "execute_result"
    },
    {
     "data": {
      "image/png": "[encoded data removed]",
      "text/plain": [
       "<matplotlib.figure.Figure at 0x7f8d7ede29e8>"
      ]
     },
     "metadata": {},
     "output_type": "display_data"
    }
   ],
   "source": [
    "label=train_df.label.values\n",
    "label = label - np.min(label)\n",
    "num_classes = len(np.unique(label))\n",
    "print('Number of classes is ' + str(num_classes))\n",
    "plt.hist(label, bins=range(num_classes+1))\n"
   ]
  },
  {
   "cell_type": "markdown",
   "metadata": {},
   "source": [
    "# Training - Validation Split"
   ]
  },
  {
   "cell_type": "code",
   "execution_count": 38,
   "metadata": {
    "collapsed": false
   },
   "outputs": [
    {
     "name": "stdout",
     "output_type": "stream",
     "text": [
      "[[-0.06296035  0.09976361 -0.09288645 ...,  0.31066669  0.255992\n",
      "  -0.21197856]\n",
      " [-0.04372958 -0.02768737  0.24446295 ...,  0.0197576  -0.0812173\n",
      "  -0.21197856]\n",
      " [-0.04372958 -0.02768737  0.02157138 ..., -0.00751513 -0.10447311\n",
      "   0.09447306]\n",
      " ..., \n",
      " [ 0.14857811 -0.0865109   0.05169186 ..., -0.11660604  0.18622456\n",
      "   0.09447306]\n",
      " [-0.07257574 -0.05709914 -0.05071778 ...,  0.0197576  -0.10447311\n",
      "   0.02995693]\n",
      " [ 0.03319349 -0.04729521  0.02759548 ..., -0.08933331 -0.05796148\n",
      "  -0.24423662]]\n"
     ]
    }
   ],
   "source": [
    "feat_df=train_df.drop('label', axis=1)\n",
    "feat_df = (feat_df - feat_df.mean()) / (feat_df.max() - feat_df.min())\n",
    "feat_df.head()\n",
    "\n",
    "fvec = feat_df.values\n",
    "print(fvec)"
   ]
  },
  {
   "cell_type": "code",
   "execution_count": 39,
   "metadata": {
    "collapsed": false
   },
   "outputs": [
    {
     "name": "stdout",
     "output_type": "stream",
     "text": [
      "[0 1 2 3 4 5 6]\n"
     ]
    },
    {
     "data": {
      "image/png": "[encoded data removed]",
      "text/plain": [
       "<matplotlib.figure.Figure at 0x7f8ce8037828>"
      ]
     },
     "metadata": {},
     "output_type": "display_data"
    }
   ],
   "source": [
    "split_idx = int(len(label)*split)\n",
    "fvec_tr = fvec[:split_idx,:]\n",
    "fvec_test = fvec[split_idx:,:]\n",
    "label_tr = label[:split_idx]\n",
    "label_test = label[split_idx:]\n",
    "\n",
    "plt.subplot(121)\n",
    "plt.hist(label_tr, bins=range(num_classes+1))\n",
    "plt.title('Training Labels')\n",
    "plt.subplot(122)\n",
    "plt.hist(label_test, bins=range(num_classes+1))\n",
    "plt.title('Test Labels')\n",
    "\n",
    "print(np.unique(label))"
   ]
  },
  {
   "cell_type": "markdown",
   "metadata": {},
   "source": [
    "## Ridge Regression"
   ]
  },
  {
   "cell_type": "code",
   "execution_count": 16,
   "metadata": {
    "collapsed": false
   },
   "outputs": [
    {
     "name": "stdout",
     "output_type": "stream",
     "text": [
      "Coefficients: \n",
      " [-0.10041959 -1.91218727  0.03923862  2.96763431 -0.20421887  1.01761809\n",
      " -0.23609151 -3.04031527  0.41044475  0.42721328  1.83874572]\n",
      "Training\n",
      "Mean absolute error: 0.64\n",
      "Accuracy: 0.52\n",
      "Validation\n",
      "Mean absolute error: 0.69\n",
      "Accuracy: 0.52\n"
     ]
    },
    {
     "data": {
      "text/plain": [
       "<matplotlib.text.Text at 0x7f8ca5d5b4a8>"
      ]
     },
     "execution_count": 16,
     "metadata": {},
     "output_type": "execute_result"
    },
    {
     "data": {
      "image/png": "[encoded data removed]",
      "text/plain": [
       "<matplotlib.figure.Figure at 0x7f8caf112470>"
      ]
     },
     "metadata": {},
     "output_type": "display_data"
    },
    {
     "data": {
      "image/png": "[encoded data removed]",
      "text/plain": [
       "<matplotlib.figure.Figure at 0x7f8ca5e74cc0>"
      ]
     },
     "metadata": {},
     "output_type": "display_data"
    }
   ],
   "source": [
    "from sklearn import datasets, linear_model\n",
    "from sklearn.metrics import mean_squared_error\n",
    "\n",
    "# Create linear regression object\n",
    "regr = linear_model.Ridge(alpha = .5)\n",
    "\n",
    "# Train the model using training sets\n",
    "regr.fit(fvec_tr, label_tr)\n",
    "\n",
    "# Make predictions using the testing set\n",
    "label_pred = np.round(regr.predict(fvec_test)).astype(np.int)\n",
    "label_pred[label_pred<0]=0\n",
    "label_pred[label_pred>=num_classes]=num_classes-1\n",
    "\n",
    "label_tr_pred = np.round(regr.predict(fvec_tr)).astype(np.int)\n",
    "label_tr_pred[label_tr_pred<0]=0\n",
    "label_tr_pred[label_tr_pred>=num_classes]=num_classes-1\n",
    "\n",
    "# The coefficients\n",
    "print('Coefficients: \\n', regr.coef_)\n",
    "\n",
    "# The mean squared error\n",
    "print('Training')\n",
    "print(\"Mean squared error: %.2f\"\n",
    "      % mean_squared_error(label_tr_pred, label_tr))\n",
    "\n",
    "#CCR \n",
    "print(\"Accuracy: %.2f\"\n",
    "      % np.mean(label_tr_pred==label_tr))\n",
    "\n",
    "# The mean squared error\n",
    "print('Validation')\n",
    "print(\"Mean squared error: %.2f\"\n",
    "      % mean_squared_error(label_pred, label_test))\n",
    "\n",
    "#CCR \n",
    "print(\"Accuracy: %.2f\"\n",
    "      % np.mean(label_pred==label_test))\n",
    "\n",
    "plt.figure(figsize=(10,5))\n",
    "plt.subplot(121)\n",
    "plt.hist(label_test, bins=range(num_classes+1))\n",
    "plt.title('Test Labels')\n",
    "plt.subplot(122)\n",
    "plt.hist(label_pred, bins=range(num_classes+1))\n",
    "plt.title('Predicted Labels')\n",
    "\n",
    "plt.figure(figsize=(10,5))\n",
    "plt.subplot(121)\n",
    "plt.hist(label_tr, bins=range(num_classes+1))\n",
    "plt.title('Training Labels')\n",
    "plt.subplot(122)\n",
    "plt.hist(label_tr_pred, bins=range(num_classes+1))\n",
    "plt.title('Predicted Labels')"
   ]
  },
  {
   "cell_type": "code",
   "execution_count": 17,
   "metadata": {
    "collapsed": false
   },
   "outputs": [
    {
     "name": "stdout",
     "output_type": "stream",
     "text": [
      "Training\n",
      "Mean squared error: 0.71\n",
      "Accuracy: 0.51\n",
      "Validation\n",
      "Mean squared error: 0.75\n",
      "Accuracy: 0.52\n"
     ]
    },
    {
     "data": {
      "text/plain": [
       "<matplotlib.text.Text at 0x7f8ca5312518>"
      ]
     },
     "execution_count": 17,
     "metadata": {},
     "output_type": "execute_result"
    },
    {
     "data": {
      "image/png": "[encoded data removed]",
      "text/plain": [
       "<matplotlib.figure.Figure at 0x7f8d24fecd68>"
      ]
     },
     "metadata": {},
     "output_type": "display_data"
    },
    {
     "data": {
      "image/png": "[encoded data removed]",
      "text/plain": [
       "<matplotlib.figure.Figure at 0x7f8ca53c5390>"
      ]
     },
     "metadata": {},
     "output_type": "display_data"
    }
   ],
   "source": [
    "\n",
    "from sklearn.svm import SVC\n",
    "clf = SVC()#class_weight = 'balanced')\n",
    "\n",
    "clf.fit(fvec_tr, label_tr)\n",
    "label_pred = clf.predict(fvec_test)\n",
    "label_tr_pred = clf.predict(fvec_tr)\n",
    "\n",
    "# The mean squared error\n",
    "print('Training')\n",
    "print(\"Mean squared error: %.2f\"\n",
    "      % mean_squared_error(label_tr_pred, label_tr))\n",
    "\n",
    "#CCR \n",
    "print(\"Accuracy: %.2f\"\n",
    "      % np.mean(label_tr_pred==label_tr))\n",
    "\n",
    "# The mean squared error\n",
    "print('Validation')\n",
    "print(\"Mean squared error: %.2f\"\n",
    "      % mean_squared_error(label_pred, label_test))\n",
    "\n",
    "#CCR \n",
    "print(\"Accuracy: %.2f\"\n",
    "      % np.mean(label_pred==label_test))\n",
    "\n",
    "\n",
    "plt.figure(figsize=(10,5))\n",
    "plt.subplot(121)\n",
    "plt.hist(label_test, bins=range(num_classes+1))\n",
    "plt.title('Test Labels')\n",
    "plt.subplot(122)\n",
    "plt.hist(label_pred, bins=range(num_classes+1))\n",
    "plt.title('Predicted Labels')\n",
    "\n",
    "plt.figure(figsize=(10,5))\n",
    "plt.subplot(121)\n",
    "plt.hist(label_tr, bins=range(num_classes+1))\n",
    "plt.title('Training Labels')\n",
    "plt.subplot(122)\n",
    "plt.hist(label_tr_pred, bins=range(num_classes+1))\n",
    "plt.title('Predicted Labels')"
   ]
  },
  {
   "cell_type": "markdown",
   "metadata": {},
   "source": [
    "# MLP Network using PyTorch"
   ]
  },
  {
   "cell_type": "code",
   "execution_count": 40,
   "metadata": {
    "collapsed": true
   },
   "outputs": [],
   "source": [
    "import torch\n",
    "import torch.nn as nn\n",
    "import torch.optim as optim\n",
    "from torch.autograd import Variable\n",
    "import numpy as np\n",
    "import torchvision\n",
    "from torchvision import datasets, models, transforms\n",
    "import torchsample\n",
    "from torchsample import transforms as ts_transforms\n",
    "import functions.fine_tune as ft\n",
    "from tensorboardX import SummaryWriter"
   ]
  },
  {
   "cell_type": "markdown",
   "metadata": {},
   "source": [
    "## Variables"
   ]
  },
  {
   "cell_type": "code",
   "execution_count": 41,
   "metadata": {
    "collapsed": false
   },
   "outputs": [],
   "source": [
    "data_type = 'wine_white'\n",
    "num_samples = len(label)\n",
    "num_classes = len(np.unique(label))\n",
    "dim = fvec.shape[1]\n",
    "\n",
    "optimizer='sgd' #Optimizer function\n",
    "iter_loc=7 #Number of the first column in the excel file for writing the results.\n",
    "lr=.5 #Initial learning rate\n",
    "momentum=0.9\n",
    "weight_decay=0.0005\n",
    "batch_size = 64\n",
    "lr_scheduler=ft.exp_lr_scheduler #Learning rate scheduler\n",
    "lr_decay_epoch=10 #Number of epoch for learning rate decay\n",
    "hidden_sizes = [4]\n",
    "dropouts = [1]\n",
    "rand_label = False\n",
    "\n",
    "'''Multipliers for loss functions'''\n",
    "single_loss=1.\n",
    "multi_loss=0.\n",
    "\n",
    "comment=' ' #Additional comments if any"
   ]
  },
  {
   "cell_type": "markdown",
   "metadata": {},
   "source": [
    "## Numpy to Pytorch"
   ]
  },
  {
   "cell_type": "code",
   "execution_count": 42,
   "metadata": {
    "collapsed": false
   },
   "outputs": [
    {
     "name": "stdout",
     "output_type": "stream",
     "text": [
      "{'train': 979, 'val': 3919}\n",
      "GPU is available\n",
      "torch.Size([64, 11])\n"
     ]
    }
   ],
   "source": [
    "dsets={'train': torch.utils.data.TensorDataset(torch.from_numpy(fvec_tr).type(torch.FloatTensor),\n",
    "                                               torch.from_numpy(label_tr).type(torch.LongTensor)),\n",
    "       'val': torch.utils.data.TensorDataset(torch.from_numpy(fvec_test).type(torch.FloatTensor),\n",
    "                                             torch.from_numpy(label_test).type(torch.LongTensor))}\n",
    "\n",
    "'''Define dataset loaders'''\n",
    "dset_loaders = {'train':torch.utils.data.DataLoader(dsets['train'], batch_size=batch_size,shuffle=True,\n",
    "                                                    num_workers=12),\n",
    "                'val':torch.utils.data.DataLoader(dsets['val'], batch_size=batch_size,shuffle=False,\n",
    "                                                    num_workers=12)}\n",
    "\n",
    "\n",
    "dset_sizes={'train':len(dsets['train']),'val':len(dsets['val'])}\n",
    "use_gpu = torch.cuda.is_available()\n",
    "\n",
    "print(dset_sizes)\n",
    "\n",
    "if use_gpu:\n",
    "    print('GPU is available')\n",
    "else:\n",
    "    print('!!!!! NO CUDA GPUS DETECTED')\n",
    "\n",
    "inputs, classes = next(iter(dset_loaders['train']))\n",
    "print(inputs.shape)\n"
   ]
  },
  {
   "cell_type": "markdown",
   "metadata": {},
   "source": [
    "## Log Keeping"
   ]
  },
  {
   "cell_type": "code",
   "execution_count": 43,
   "metadata": {
    "collapsed": true
   },
   "outputs": [],
   "source": [
    "import openpyxl\n",
    "import time\n",
    "from datetime import datetime\n",
    "\n",
    "def writeLog(logname):\n",
    "    '''\n",
    "    Creates a text file named Network_properties.txt inside runs/'logname'\n",
    "    '''\n",
    "    f=open('runs_ordinal/'+logname+'/Network_properties.txt','w')\n",
    "    f.write('Feature Length: '+str(dim)+'\\n')\n",
    "    f.write('Number of classes: '+str(num_classes)+'\\n')\n",
    "    f.write('Data type: '+data_type+'\\n')\n",
    "    \n",
    "    f.write('Hidden sizes: '+ str(hidden_sizes)+'\\n')\n",
    "    f.write('Dropouts: '+str(dropouts)+'\\n')\n",
    "    f.write('Batch size: '+str(batch_size)+'\\n')\n",
    "    f.write('Number of samples: '+str(num_samples)+'\\n')\n",
    "    \n",
    "    f.write('Optimizer: ' + optimizer + '\\n')\n",
    "    crt=str(single_loss)+'xsingle + '+str(multi_loss)+'Xmulti'\n",
    "    f.write('Criterion: '+crt+'\\n')\n",
    "    f.write('Learning rate: '+str(lr)+'\\n')\n",
    "    f.write('Momentum: '+str(momentum)+'\\n')\n",
    "    f.write('Leraning Rate Scheduler: '+str(lr_scheduler)+'\\n')\n",
    "    f.write('Leraning Rate Decay Period: '+str(lr_decay_epoch)+'\\n')\n",
    "    f.close()\n",
    "\n",
    "\n",
    "def writeLog_xlsx(logname='logs_ordinal.xlsx',iter_loc=8):\n",
    "    '''\n",
    "    Adds a line to logs.xlsx with the network properties and outcomes.\n",
    "    :param iter_loc: First column to record the outcomes.\n",
    "    '''\n",
    "    book = openpyxl.load_workbook(logname)\n",
    "    sheet = book.active\n",
    "    crt=str(single_loss)+'xsingle + '+str(multi_loss)+'Xmulti'\n",
    "    specs=(datetime.now().strftime('%B%d  %H:%M:%S'), str(data_type), str(hidden_sizes),str(dim),str(num_classes),\n",
    "           crt, str(lr))\n",
    "    sheet.append(specs)\n",
    "    current_row = sheet.max_row\n",
    "    sheet.cell(row=current_row, column=iter_loc+5).value = comment\n",
    "    book.save(logname)\n",
    "    \n",
    "    \n",
    "def write_epochs(result_log, logname):\n",
    "    print(len(result_log))\n",
    "\n",
    "    wb_tr = openpyxl.Workbook()\n",
    "    ws_tr = wb_tr.active\n",
    "    wb_val = openpyxl.Workbook()\n",
    "    ws_val = wb_val.active\n",
    "    print(logname)\n",
    "\n",
    "    label_arr_tr = np.zeros((100000,1))\n",
    "    probs_arr_tr = np.zeros((100000, num_classes))\n",
    "    label_arr_val = np.zeros((100000,1))\n",
    "    probs_arr_val = np.zeros((100000, num_classes))\n",
    "\n",
    "    prev_epoch = 0\n",
    "    \n",
    "    count_tr = count_val = 0\n",
    "    for result in result_log:\n",
    "        epoch = result[1]\n",
    "        if not epoch == prev_epoch:\n",
    "            label_arr_tr = label_arr_tr[:count_tr]\n",
    "            probs_arr_tr = probs_arr_tr[:count_tr, :]\n",
    "            label_arr_val = label_arr_val[:count_val]\n",
    "            probs_arr_val = probs_arr_val[:count_val, :]\n",
    "            ws_tr.append(['Epoch ' + str(prev_epoch)])\n",
    "            ws_tr.append(label_arr_tr[1:].reshape(-1).tolist())\n",
    "            ws_tr.append(np.argmax(probs_arr_tr[1:,:], axis=1).reshape(-1).tolist())\n",
    "            for probs in probs_arr_tr[1:,:].T.tolist():\n",
    "                ws_tr.append(probs)\n",
    "            #wb_tr.save('./runs_ordinal/'+logname + '/train.xlsx')\n",
    "            ws_val.append(['Epoch ' + str(prev_epoch)])\n",
    "            ws_val.append(label_arr_val[1:].reshape(-1).tolist())\n",
    "            ws_val.append(np.argmax(probs_arr_val[1:,:], axis=1).reshape(-1).tolist())\n",
    "            for probs in probs_arr_val[1:,:].T.tolist():\n",
    "                ws_val.append(probs)\n",
    "    \n",
    "\n",
    "            label_arr_tr = np.zeros((100000,1))\n",
    "            probs_arr_tr = np.zeros((100000, num_classes))\n",
    "            label_arr_val = np.zeros((100000,1))\n",
    "            probs_arr_val = np.zeros((100000, num_classes)) \n",
    "            count_tr = count_val = 0\n",
    "            prev_epoch = epoch\n",
    "\n",
    "        label = np.asarray(result[2]).reshape(-1,1)\n",
    "        scores = np.asarray(result[3])\n",
    "        exp_scores = np.exp(scores - np.max(scores,axis=1).reshape(-1, 1)*np.ones(num_classes))\n",
    "        probs = np.round(exp_scores/(np.sum(exp_scores,axis=1).reshape(-1, 1)*np.ones(num_classes)), decimals=2)\n",
    "        if result[0] == 'train':\n",
    "            label_arr_tr[count_tr:count_tr + len(label)]  = label\n",
    "            probs_arr_tr[count_tr:count_tr + len(label), :] = probs\n",
    "            count_tr += len(label)\n",
    "        elif result[0] == 'val':\n",
    "            label_arr_val[count_val:count_val + len(label)]  = label\n",
    "            probs_arr_val[count_val:count_val + len(label), :] = probs\n",
    "            count_val += len(label)\n",
    "\n",
    "\n",
    "    \n",
    "    label_arr_tr = label_arr_tr[:count_tr]\n",
    "    probs_arr_tr = probs_arr_tr[:count_tr, :]\n",
    "    label_arr_val = label_arr_val[:count_val]\n",
    "    probs_arr_val = probs_arr_val[:count_val, :]\n",
    "            \n",
    "    ws_tr.append(['Epoch ' + str(epoch)])\n",
    "    ws_tr.append(label_arr_tr[1:].reshape(-1).tolist())\n",
    "    ws_tr.append(np.argmax(probs_arr_tr[1:,:], axis=1).reshape(-1).tolist())\n",
    "    for probs in probs_arr_tr[1:,:].T.tolist():\n",
    "        ws_tr.append(probs)\n",
    "    #wb_tr.save('./runs_ord/'+logname + '/train.xlsx')\n",
    "    ws_val.append(['Epoch ' + str(epoch)])\n",
    "    ws_val.append(label_arr_val[1:].reshape(-1).tolist())\n",
    "    ws_val.append(np.argmax(probs_arr_val[1:,:], axis=1).reshape(-1).tolist())\n",
    "    for probs in probs_arr_val[1:,:].T.tolist():\n",
    "        ws_val.append(probs)\n",
    "    wb_val.save('./runs_ordinal/'+logname + '/val.xlsx')\n",
    "    label_arr_tr = np.zeros((1,1))\n",
    "    probs_arr_tr = np.zeros((1, num_classes))\n",
    "    label_arr_val = np.zeros((1,1))\n",
    "    probs_arr_val = np.zeros((1, num_classes))\n",
    "    prev_epoch = epoch\n",
    "    print('Finito')\n",
    "    \n",
    "    del label_arr_tr, probs_arr_tr, label_arr_val, probs_arr_val\n",
    "\n"
   ]
  },
  {
   "cell_type": "markdown",
   "metadata": {},
   "source": [
    "## MLP function"
   ]
  },
  {
   "cell_type": "code",
   "execution_count": 44,
   "metadata": {
    "collapsed": false
   },
   "outputs": [
    {
     "name": "stdout",
     "output_type": "stream",
     "text": [
      "Net (\n",
      "  (fc0): Linear (2 -> 4)\n",
      "  (relu0): ReLU ()\n",
      "  (fc1): Linear (4 -> 2)\n",
      "  (relu1): ReLU ()\n",
      "  (fc2): Linear (2 -> 2)\n",
      ")\n"
     ]
    }
   ],
   "source": [
    "class Net(nn.Module):\n",
    "    def __init__(self, input_size, hidden_sizes, dropouts, num_classes):\n",
    "        super(Net, self).__init__()\n",
    "        self.numHidden=len(hidden_sizes)\n",
    "        setattr(self, 'fc0', nn.Linear(input_size, hidden_sizes[0]))\n",
    "        setattr(self, 'relu0', nn.ReLU())\n",
    "        #setattr(self, 'drop0', nn.Dropout(p=dropouts[0]))\n",
    "        for k in range(len(hidden_sizes)-1):\n",
    "            setattr(self, 'fc'+str(k+1), nn.Linear(hidden_sizes[k], hidden_sizes[k+1]))\n",
    "            setattr(self, 'relu'+str(k+1), nn.ReLU())\n",
    "            #setattr(self, 'drop'+str(k+1), nn.Dropout(p=dropouts[k+1]))\n",
    "        setattr(self, 'fc'+str(len(hidden_sizes)), nn.Linear(hidden_sizes[-1], num_classes))\n",
    "    \n",
    "    def forward(self, x):\n",
    "        out=self.fc0(x)\n",
    "        out = self.relu0(out)\n",
    "        #out = self.drop0(out)\n",
    "        for k in range(self.numHidden-1):\n",
    "            fc = getattr(self,'fc'+str(k+1))\n",
    "            relu = getattr(self,'relu'+str(k+1))\n",
    "            #drop = getattr(self,'drop'+str(k+1))\n",
    "            out = fc(out)\n",
    "            out = relu(out)\n",
    "            #out = drop(out)\n",
    "        fc = getattr(self,'fc'+str(self.numHidden))\n",
    "        out = fc(out)\n",
    "        return out\n",
    "    \n",
    "model=Net(2, [4, 2],[1, 1], 2)\n",
    "print(model)"
   ]
  },
  {
   "cell_type": "markdown",
   "metadata": {},
   "source": [
    "## Running the Network"
   ]
  },
  {
   "cell_type": "code",
   "execution_count": 45,
   "metadata": {
    "collapsed": false
   },
   "outputs": [],
   "source": [
    "import importlib\n",
    "importlib.reload(ft)\n",
    "def network_loader(comment=comment,\n",
    "                    optimizer=optimizer,\n",
    "                    iter_loc=iter_loc,\n",
    "                    lr=lr,\n",
    "                    momentum=momentum,\n",
    "                    weight_decay=weight_decay,\n",
    "                    lr_scheduler=lr_scheduler,\n",
    "                    lr_decay_epoch=lr_decay_epoch,\n",
    "                    nclasses=num_classes,\n",
    "                    hidden_sizes = hidden_sizes,\n",
    "                    dropouts = dropouts):\n",
    "    \n",
    "    '''Load the network from pytorch'''\n",
    "    \n",
    "    model_ft = Net(dim, hidden_sizes , dropouts, num_classes)\n",
    "\n",
    "    if use_gpu:\n",
    "        model_ft = model_ft.cuda()\n",
    "\n",
    "    '''Define the optimizer function'''\n",
    "    if(optimizer=='adam'):\n",
    "        optimizer_ft = optim.Adam(model_ft.parameters(),lr=lr,weight_decay=weight_decay)\n",
    "    elif(optimizer=='sgd'):\n",
    "        optimizer_ft = optim.SGD(model_ft.parameters(), lr=lr, momentum=momentum, weight_decay=weight_decay)\n",
    "    return model_ft, optimizer_ft\n",
    "\n",
    "    \n",
    "def run_network():\n",
    "    '''\n",
    "    Cretaes the log files and starts the training\n",
    "    '''\n",
    "    model_ft, optimizer_ft = network_loader(comment=comment, #'Tested for three rooms'\n",
    "                                            optimizer=optimizer,\n",
    "                                            iter_loc=iter_loc,\n",
    "                                            lr=lr,\n",
    "                                            momentum=momentum,\n",
    "                                            weight_decay=weight_decay,\n",
    "                                            lr_scheduler=lr_scheduler,\n",
    "                                            lr_decay_epoch=lr_decay_epoch,\n",
    "                                            nclasses=num_classes)\n",
    "    \n",
    "    \n",
    "    '''Name of the trial'''\n",
    "    crt=str(single_loss)+'xsingle + '+str(multi_loss)+'Xmulti'\n",
    "    logname='Ordinal_'+datetime.now().strftime('%B%d  %H:%M:%S')\n",
    "    writer = SummaryWriter('runs_ordinal/'+logname) #For tensorboard\n",
    "    writeLog(logname)\n",
    "    writeLog_xlsx()\n",
    "    \n",
    "    '''Start trianing'''\n",
    "    best_model, last_model, result_log = ft.train_model(model_ft,optimizer_ft, lr_scheduler,dset_loaders,\n",
    "                            dset_sizes,writer,use_gpu=use_gpu,num_epochs=30,batch_size=batch_size,num_log=250,\n",
    "                            multi_prob=False,lr_decay_epoch=lr_decay_epoch,init_lr=lr,mse_loss=False,\n",
    "                            iter_loc=iter_loc,cross_loss=single_loss,multi_loss=multi_loss,numOut=num_classes,\n",
    "                                                       logname='logs_ordinal.xlsx')\n",
    "    \n",
    "    '''Save the models'''\n",
    "    torch.save(best_model,'./saved_models/ordinal/'+logname+'_best')\n",
    "    torch.save(last_model,'./saved_models/ordinal/'+logname+'_last')\n",
    "    \n",
    "    print('Writing results')\n",
    "    write_epochs(result_log, logname)\n",
    "    print('Wrote results')\n",
    "    '''Free up the memory'''\n",
    "    del model_ft, result_log\n",
    "\n",
    "\n"
   ]
  },
  {
   "cell_type": "markdown",
   "metadata": {},
   "source": [
    "## Trials"
   ]
  },
  {
   "cell_type": "code",
   "execution_count": 47,
   "metadata": {
    "collapsed": false,
    "scrolled": true
   },
   "outputs": [
    {
     "name": "stdout",
     "output_type": "stream",
     "text": [
      "Epoch 0/29\n",
      "----------\n",
      "LR is set to 0.005\n",
      "train Loss: 0.0333 Acc: 0.0082 CIR-1: 0.0592 RMSE 2.9771\n",
      "val Loss: 0.0309 Acc: 0.0965 CIR-1: 0.3782 RMSE 2.3084\n",
      "\n",
      "Epoch 1/29\n",
      "----------\n",
      "train Loss: 0.0308 Acc: 0.1736 CIR-1: 0.6210 RMSE 1.6164\n",
      "val Loss: 0.0286 Acc: 0.2210 CIR-1: 0.7119 RMSE 1.3550\n",
      "\n",
      "Epoch 2/29\n",
      "----------\n",
      "train Loss: 0.0284 Acc: 0.2911 CIR-1: 0.7661 RMSE 1.2607\n",
      "val Loss: 0.0264 Acc: 0.3042 CIR-1: 0.7905 RMSE 1.2282\n",
      "\n",
      "Epoch 3/29\n",
      "----------\n",
      "train Loss: 0.0261 Acc: 0.2983 CIR-1: 0.7702 RMSE 1.2591\n",
      "val Loss: 0.0243 Acc: 0.2975 CIR-1: 0.7816 RMSE 1.2451\n",
      "\n",
      "Epoch 4/29\n",
      "----------\n",
      "train Loss: 0.0241 Acc: 0.3442 CIR-1: 0.8121 RMSE 1.1673\n",
      "val Loss: 0.0224 Acc: 0.4907 CIR-1: 0.9365 RMSE 0.8502\n",
      "\n",
      "Epoch 5/29\n",
      "----------\n",
      "train Loss: 0.0224 Acc: 0.4545 CIR-1: 0.9336 RMSE 0.8688\n",
      "val Loss: 0.0210 Acc: 0.4499 CIR-1: 0.9245 RMSE 0.8978\n",
      "\n",
      "Epoch 6/29\n",
      "----------\n",
      "train Loss: 0.0211 Acc: 0.4443 CIR-1: 0.9316 RMSE 0.8782\n",
      "val Loss: 0.0202 Acc: 0.4499 CIR-1: 0.9245 RMSE 0.8978\n",
      "\n",
      "Epoch 7/29\n",
      "----------\n",
      "train Loss: 0.0204 Acc: 0.4443 CIR-1: 0.9316 RMSE 0.8782\n",
      "val Loss: 0.0197 Acc: 0.4499 CIR-1: 0.9245 RMSE 0.8978\n",
      "\n",
      "Epoch 8/29\n",
      "----------\n",
      "train Loss: 0.0199 Acc: 0.4433 CIR-1: 0.9305 RMSE 0.8805\n",
      "val Loss: 0.0193 Acc: 0.4519 CIR-1: 0.9260 RMSE 0.8927\n",
      "\n",
      "Epoch 9/29\n",
      "----------\n",
      "train Loss: 0.0195 Acc: 0.4515 CIR-1: 0.9326 RMSE 0.8723\n",
      "val Loss: 0.0191 Acc: 0.4583 CIR-1: 0.9291 RMSE 0.8839\n",
      "\n",
      "Epoch 10/29\n",
      "----------\n",
      "LR is set to 0.0005\n",
      "train Loss: 0.0196 Acc: 0.4525 CIR-1: 0.9326 RMSE 0.8718\n",
      "val Loss: 0.0191 Acc: 0.4593 CIR-1: 0.9291 RMSE 0.8833\n",
      "\n",
      "Epoch 11/29\n",
      "----------\n",
      "train Loss: 0.0193 Acc: 0.4535 CIR-1: 0.9336 RMSE 0.8694\n",
      "val Loss: 0.0190 Acc: 0.4629 CIR-1: 0.9301 RMSE 0.8796\n",
      "\n",
      "Epoch 12/29\n",
      "----------\n",
      "train Loss: 0.0192 Acc: 0.4545 CIR-1: 0.9336 RMSE 0.8688\n",
      "val Loss: 0.0190 Acc: 0.4662 CIR-1: 0.9303 RMSE 0.8773\n",
      "\n",
      "Epoch 13/29\n",
      "----------\n",
      "train Loss: 0.0193 Acc: 0.4545 CIR-1: 0.9316 RMSE 0.8723\n",
      "val Loss: 0.0190 Acc: 0.4713 CIR-1: 0.9265 RMSE 0.8809\n",
      "\n",
      "Epoch 14/29\n",
      "----------\n",
      "train Loss: 0.0193 Acc: 0.4607 CIR-1: 0.9305 RMSE 0.8706\n",
      "val Loss: 0.0190 Acc: 0.4746 CIR-1: 0.9260 RMSE 0.8791\n",
      "\n",
      "Epoch 15/29\n",
      "----------\n",
      "train Loss: 0.0194 Acc: 0.4637 CIR-1: 0.9305 RMSE 0.8747\n",
      "val Loss: 0.0190 Acc: 0.4764 CIR-1: 0.9270 RMSE 0.8844\n",
      "\n",
      "Epoch 16/29\n",
      "----------\n",
      "train Loss: 0.0192 Acc: 0.4709 CIR-1: 0.9316 RMSE 0.8688\n",
      "val Loss: 0.0189 Acc: 0.4761 CIR-1: 0.9270 RMSE 0.8845\n",
      "\n",
      "Epoch 17/29\n",
      "----------\n",
      "train Loss: 0.0195 Acc: 0.4699 CIR-1: 0.9316 RMSE 0.8694\n",
      "val Loss: 0.0189 Acc: 0.4769 CIR-1: 0.9260 RMSE 0.8858\n",
      "\n",
      "Epoch 18/29\n",
      "----------\n",
      "train Loss: 0.0193 Acc: 0.4729 CIR-1: 0.9326 RMSE 0.8659\n",
      "val Loss: 0.0189 Acc: 0.4789 CIR-1: 0.9219 RMSE 0.8908\n",
      "\n",
      "Epoch 19/29\n",
      "----------\n",
      "train Loss: 0.0193 Acc: 0.4780 CIR-1: 0.9326 RMSE 0.8629\n",
      "val Loss: 0.0189 Acc: 0.4856 CIR-1: 0.9204 RMSE 0.8897\n",
      "\n",
      "Epoch 20/29\n",
      "----------\n",
      "LR is set to 5.000000000000001e-05\n",
      "train Loss: 0.0193 Acc: 0.4791 CIR-1: 0.9295 RMSE 0.8676\n",
      "val Loss: 0.0189 Acc: 0.4863 CIR-1: 0.9206 RMSE 0.8888\n",
      "\n",
      "Epoch 21/29\n",
      "----------\n",
      "train Loss: 0.0191 Acc: 0.4801 CIR-1: 0.9295 RMSE 0.8671\n",
      "val Loss: 0.0189 Acc: 0.4863 CIR-1: 0.9206 RMSE 0.8888\n",
      "\n",
      "Epoch 22/29\n",
      "----------\n",
      "train Loss: 0.0194 Acc: 0.4801 CIR-1: 0.9295 RMSE 0.8671\n",
      "val Loss: 0.0189 Acc: 0.4863 CIR-1: 0.9206 RMSE 0.8888\n",
      "\n",
      "Epoch 23/29\n",
      "----------\n",
      "train Loss: 0.0193 Acc: 0.4811 CIR-1: 0.9295 RMSE 0.8665\n",
      "val Loss: 0.0189 Acc: 0.4869 CIR-1: 0.9201 RMSE 0.8894\n",
      "\n",
      "Epoch 24/29\n",
      "----------\n",
      "train Loss: 0.0193 Acc: 0.4821 CIR-1: 0.9295 RMSE 0.8659\n",
      "val Loss: 0.0189 Acc: 0.4874 CIR-1: 0.9201 RMSE 0.8891\n",
      "\n",
      "Epoch 25/29\n",
      "----------\n",
      "train Loss: 0.0192 Acc: 0.4821 CIR-1: 0.9295 RMSE 0.8659\n",
      "val Loss: 0.0189 Acc: 0.4874 CIR-1: 0.9204 RMSE 0.8887\n",
      "\n",
      "Epoch 26/29\n",
      "----------\n",
      "train Loss: 0.0192 Acc: 0.4831 CIR-1: 0.9295 RMSE 0.8653\n",
      "val Loss: 0.0189 Acc: 0.4879 CIR-1: 0.9204 RMSE 0.8884\n",
      "\n",
      "Epoch 27/29\n",
      "----------\n",
      "train Loss: 0.0191 Acc: 0.4842 CIR-1: 0.9295 RMSE 0.8647\n",
      "val Loss: 0.0189 Acc: 0.4858 CIR-1: 0.9206 RMSE 0.8891\n",
      "\n",
      "Epoch 28/29\n",
      "----------\n",
      "train Loss: 0.0191 Acc: 0.4831 CIR-1: 0.9295 RMSE 0.8653\n",
      "val Loss: 0.0189 Acc: 0.4861 CIR-1: 0.9206 RMSE 0.8890\n",
      "\n",
      "Epoch 29/29\n",
      "----------\n",
      "train Loss: 0.0193 Acc: 0.4842 CIR-1: 0.9295 RMSE 0.8647\n",
      "val Loss: 0.0189 Acc: 0.4866 CIR-1: 0.9206 RMSE 0.8887\n",
      "\n",
      "Training complete in 0m 23s\n",
      "Best val RMSE: 0.850228\n",
      "Writing results\n",
      "2340\n",
      "Ordinal_December15  16:42:55\n"
     ]
    },
    {
     "name": "stderr",
     "output_type": "stream",
     "text": [
      "/home/mtezcan/anaconda3/lib/python3.6/site-packages/torch/serialization.py:147: UserWarning: Couldn't retrieve source code for container of type Net. It won't be checked for correctness upon loading.\n",
      "  \"type \" + obj.__name__ + \". It won't be checked \"\n"
     ]
    },
    {
     "ename": "KeyboardInterrupt",
     "evalue": "",
     "output_type": "error",
     "traceback": [
      "\u001b[0;31m---------------------------------------------------------------------------\u001b[0m",
      "\u001b[0;31mKeyboardInterrupt\u001b[0m                         Traceback (most recent call last)",
      "\u001b[0;32m<ipython-input-47-8ba64ffc44f4>\u001b[0m in \u001b[0;36m<module>\u001b[0;34m()\u001b[0m\n\u001b[1;32m      9\u001b[0m \u001b[0msingle_loss\u001b[0m\u001b[0;34m=\u001b[0m\u001b[0;36m1.0\u001b[0m\u001b[0;34m\u001b[0m\u001b[0m\n\u001b[1;32m     10\u001b[0m \u001b[0mmulti_loss\u001b[0m \u001b[0;34m=\u001b[0m\u001b[0;36m0.0\u001b[0m\u001b[0;34m\u001b[0m\u001b[0m\n\u001b[0;32m---> 11\u001b[0;31m \u001b[0mrun_network\u001b[0m\u001b[0;34m(\u001b[0m\u001b[0;34m)\u001b[0m\u001b[0;34m\u001b[0m\u001b[0m\n\u001b[0m",
      "\u001b[0;32m<ipython-input-45-f7ee91b588bd>\u001b[0m in \u001b[0;36mrun_network\u001b[0;34m()\u001b[0m\n\u001b[1;32m     62\u001b[0m \u001b[0;34m\u001b[0m\u001b[0m\n\u001b[1;32m     63\u001b[0m     \u001b[0mprint\u001b[0m\u001b[0;34m(\u001b[0m\u001b[0;34m'Writing results'\u001b[0m\u001b[0;34m)\u001b[0m\u001b[0;34m\u001b[0m\u001b[0m\n\u001b[0;32m---> 64\u001b[0;31m     \u001b[0mwrite_epochs\u001b[0m\u001b[0;34m(\u001b[0m\u001b[0mresult_log\u001b[0m\u001b[0;34m,\u001b[0m \u001b[0mlogname\u001b[0m\u001b[0;34m)\u001b[0m\u001b[0;34m\u001b[0m\u001b[0m\n\u001b[0m\u001b[1;32m     65\u001b[0m     \u001b[0mprint\u001b[0m\u001b[0;34m(\u001b[0m\u001b[0;34m'Wrote results'\u001b[0m\u001b[0;34m)\u001b[0m\u001b[0;34m\u001b[0m\u001b[0m\n\u001b[1;32m     66\u001b[0m     \u001b[0;34m'''Free up the memory'''\u001b[0m\u001b[0;34m\u001b[0m\u001b[0m\n",
      "\u001b[0;32m<ipython-input-43-1cb2700af612>\u001b[0m in \u001b[0;36mwrite_epochs\u001b[0;34m(result_log, logname)\u001b[0m\n\u001b[1;32m     75\u001b[0m             \u001b[0mws_val\u001b[0m\u001b[0;34m.\u001b[0m\u001b[0mappend\u001b[0m\u001b[0;34m(\u001b[0m\u001b[0;34m[\u001b[0m\u001b[0;34m'Epoch '\u001b[0m \u001b[0;34m+\u001b[0m \u001b[0mstr\u001b[0m\u001b[0;34m(\u001b[0m\u001b[0mprev_epoch\u001b[0m\u001b[0;34m)\u001b[0m\u001b[0;34m]\u001b[0m\u001b[0;34m)\u001b[0m\u001b[0;34m\u001b[0m\u001b[0m\n\u001b[1;32m     76\u001b[0m             \u001b[0mws_val\u001b[0m\u001b[0;34m.\u001b[0m\u001b[0mappend\u001b[0m\u001b[0;34m(\u001b[0m\u001b[0mlabel_arr_val\u001b[0m\u001b[0;34m[\u001b[0m\u001b[0;36m1\u001b[0m\u001b[0;34m:\u001b[0m\u001b[0;34m]\u001b[0m\u001b[0;34m.\u001b[0m\u001b[0mreshape\u001b[0m\u001b[0;34m(\u001b[0m\u001b[0;34m-\u001b[0m\u001b[0;36m1\u001b[0m\u001b[0;34m)\u001b[0m\u001b[0;34m.\u001b[0m\u001b[0mtolist\u001b[0m\u001b[0;34m(\u001b[0m\u001b[0;34m)\u001b[0m\u001b[0;34m)\u001b[0m\u001b[0;34m\u001b[0m\u001b[0m\n\u001b[0;32m---> 77\u001b[0;31m             \u001b[0mws_val\u001b[0m\u001b[0;34m.\u001b[0m\u001b[0mappend\u001b[0m\u001b[0;34m(\u001b[0m\u001b[0mnp\u001b[0m\u001b[0;34m.\u001b[0m\u001b[0margmax\u001b[0m\u001b[0;34m(\u001b[0m\u001b[0mprobs_arr_val\u001b[0m\u001b[0;34m[\u001b[0m\u001b[0;36m1\u001b[0m\u001b[0;34m:\u001b[0m\u001b[0;34m,\u001b[0m\u001b[0;34m:\u001b[0m\u001b[0;34m]\u001b[0m\u001b[0;34m,\u001b[0m \u001b[0maxis\u001b[0m\u001b[0;34m=\u001b[0m\u001b[0;36m1\u001b[0m\u001b[0;34m)\u001b[0m\u001b[0;34m.\u001b[0m\u001b[0mreshape\u001b[0m\u001b[0;34m(\u001b[0m\u001b[0;34m-\u001b[0m\u001b[0;36m1\u001b[0m\u001b[0;34m)\u001b[0m\u001b[0;34m.\u001b[0m\u001b[0mtolist\u001b[0m\u001b[0;34m(\u001b[0m\u001b[0;34m)\u001b[0m\u001b[0;34m)\u001b[0m\u001b[0;34m\u001b[0m\u001b[0m\n\u001b[0m\u001b[1;32m     78\u001b[0m             \u001b[0;32mfor\u001b[0m \u001b[0mprobs\u001b[0m \u001b[0;32min\u001b[0m \u001b[0mprobs_arr_val\u001b[0m\u001b[0;34m[\u001b[0m\u001b[0;36m1\u001b[0m\u001b[0;34m:\u001b[0m\u001b[0;34m,\u001b[0m\u001b[0;34m:\u001b[0m\u001b[0;34m]\u001b[0m\u001b[0;34m.\u001b[0m\u001b[0mT\u001b[0m\u001b[0;34m.\u001b[0m\u001b[0mtolist\u001b[0m\u001b[0;34m(\u001b[0m\u001b[0;34m)\u001b[0m\u001b[0;34m:\u001b[0m\u001b[0;34m\u001b[0m\u001b[0m\n\u001b[1;32m     79\u001b[0m                 \u001b[0mws_val\u001b[0m\u001b[0;34m.\u001b[0m\u001b[0mappend\u001b[0m\u001b[0;34m(\u001b[0m\u001b[0mprobs\u001b[0m\u001b[0;34m)\u001b[0m\u001b[0;34m\u001b[0m\u001b[0m\n",
      "\u001b[0;32m/home/mtezcan/anaconda3/lib/python3.6/site-packages/openpyxl/worksheet/worksheet.py\u001b[0m in \u001b[0;36mappend\u001b[0;34m(self, iterable)\u001b[0m\n\u001b[1;32m    785\u001b[0m                 \u001b[0;32melse\u001b[0m\u001b[0;34m:\u001b[0m\u001b[0;34m\u001b[0m\u001b[0m\n\u001b[1;32m    786\u001b[0m                     \u001b[0mcell\u001b[0m \u001b[0;34m=\u001b[0m \u001b[0mCell\u001b[0m\u001b[0;34m(\u001b[0m\u001b[0mself\u001b[0m\u001b[0;34m,\u001b[0m \u001b[0mrow\u001b[0m\u001b[0;34m=\u001b[0m\u001b[0mrow_idx\u001b[0m\u001b[0;34m,\u001b[0m \u001b[0mcol_idx\u001b[0m\u001b[0;34m=\u001b[0m\u001b[0mcol_idx\u001b[0m\u001b[0;34m,\u001b[0m \u001b[0mvalue\u001b[0m\u001b[0;34m=\u001b[0m\u001b[0mcontent\u001b[0m\u001b[0;34m)\u001b[0m\u001b[0;34m\u001b[0m\u001b[0m\n\u001b[0;32m--> 787\u001b[0;31m                 \u001b[0mself\u001b[0m\u001b[0;34m.\u001b[0m\u001b[0m_cells\u001b[0m\u001b[0;34m[\u001b[0m\u001b[0;34m(\u001b[0m\u001b[0mrow_idx\u001b[0m\u001b[0;34m,\u001b[0m \u001b[0mcol_idx\u001b[0m\u001b[0;34m)\u001b[0m\u001b[0;34m]\u001b[0m \u001b[0;34m=\u001b[0m \u001b[0mcell\u001b[0m\u001b[0;34m\u001b[0m\u001b[0m\n\u001b[0m\u001b[1;32m    788\u001b[0m \u001b[0;34m\u001b[0m\u001b[0m\n\u001b[1;32m    789\u001b[0m         \u001b[0;32melif\u001b[0m \u001b[0misinstance\u001b[0m\u001b[0;34m(\u001b[0m\u001b[0miterable\u001b[0m\u001b[0;34m,\u001b[0m \u001b[0mdict\u001b[0m\u001b[0;34m)\u001b[0m\u001b[0;34m:\u001b[0m\u001b[0;34m\u001b[0m\u001b[0m\n",
      "\u001b[0;31mKeyboardInterrupt\u001b[0m: "
     ]
    }
   ],
   "source": [
    "optimizer='adam' #Optimizer function\n",
    "lr=.005 #Initial learning rate\n",
    "momentum=0.9\n",
    "weight_decay=0.0005\n",
    "lr_scheduler=ft.exp_lr_scheduler #Learning rate scheduler\n",
    "lr_decay_epoch=10 #Number of epoch for learning rate decay\n",
    "hidden_sizes = [8, 8, 8]\n",
    "dropouts = []\n",
    "single_loss=1.0\n",
    "multi_loss =0.0\n",
    "run_network()"
   ]
  },
  {
   "cell_type": "code",
   "execution_count": 32,
   "metadata": {
    "collapsed": false
   },
   "outputs": [
    {
     "name": "stdout",
     "output_type": "stream",
     "text": [
      "['CNN_trials.ipynb', 'dataset', 'runs_ord', 'logs_ord.xlsx', 'runs', 'Syntehtic Data.ipynb', 'Dataset Expolaration (ordinal).ipynb', 'logs.xlsx', 'model.pkl', 'backup.zip', 'Untitled.ipynb', 'functions', 'Dataset Expolaration.ipynb', 'runs_ordinal', '.ipynb_checkpoints', '.gitignore', '.git', 'saved_models', 'README.md']\n"
     ]
    }
   ],
   "source": [
    "import os\n",
    "print(os.listdir('./'))"
   ]
  }
 ],
 "metadata": {
  "kernelspec": {
   "display_name": "Python 3",
   "language": "python",
   "name": "python3"
  },
  "language_info": {
   "codemirror_mode": {
    "name": "ipython",
    "version": 3
   },
   "file_extension": ".py",
   "mimetype": "text/x-python",
   "name": "python",
   "nbconvert_exporter": "python",
   "pygments_lexer": "ipython3",
   "version": "3.6.0"
  }
 },
 "nbformat": 4,
 "nbformat_minor": 2
}
