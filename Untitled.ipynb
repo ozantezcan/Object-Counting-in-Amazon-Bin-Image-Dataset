{
 "cells": [
  {
   "cell_type": "markdown",
   "metadata": {},
   "source": [
    "# Load the models"
   ]
  },
  {
   "cell_type": "code",
   "execution_count": 1,
   "metadata": {},
   "outputs": [
    {
     "name": "stdout",
     "output_type": "stream",
     "text": [
      "GPU is available\n"
     ]
    }
   ],
   "source": [
    "import torch\n",
    "use_gpu = torch.cuda.is_available()\n",
    "device = torch.device(\"cuda\" if use_gpu else \"cpu\")\n",
    "\n",
    "model_dirs = ['./saved_models/resnet18__sgd_0.0xsingle + 1.0Xmulti_May17  16:31:22_last',\n",
    "             './saved_models/resnet18__sgd_0.0xsingle + 1.0Xmulti_May17  20:07:05_last',\n",
    "             './saved_models/resnet18__sgd_0.0xsingle + 1.0Xmulti_May17  23:43:21_last',\n",
    "             './saved_models/resnet18__sgd_0.0xsingle + 1.0Xmulti_May18  03:20:32_last',\n",
    "             './saved_models/resnet18__sgd_0.0xsingle + 1.0Xmulti_May18  06:57:13_last']\n",
    "\n",
    "\n",
    "model_names = ['ccr', 'ccr1', 'mae', 'mse', 'cheng']\n",
    "\n",
    "models = {model_name: torch.load(model_dir).to(device) \n",
    "          for model_name, model_dir in zip(model_names, model_dirs)}\n",
    "\n",
    "for _, model in models.items():\n",
    "    model.train(False)\n",
    "    \n",
    "if use_gpu:\n",
    "    print('GPU is available')\n",
    "else:\n",
    "    print('!!!!! NO CUDA GPUS DETECTED')"
   ]
  },
  {
   "cell_type": "markdown",
   "metadata": {},
   "source": [
    "# Load the Data"
   ]
  },
  {
   "cell_type": "code",
   "execution_count": 3,
   "metadata": {},
   "outputs": [],
   "source": [
    "from torchvision import datasets, transforms\n",
    "\n",
    "batch_size=32\n",
    "\n",
    "data_transforms =transforms.Compose([\n",
    "        transforms.Resize(256),\n",
    "        transforms.CenterCrop(224),\n",
    "        transforms.ToTensor(),\n",
    "        transforms.Normalize([0.485, 0.456, 0.406], [0.229, 0.224, 0.225])])\n",
    "\n",
    "\n",
    "data_dir = '../Images/train/balanced/eyeball_10_classes/'  \n",
    "    \n",
    "dset = datasets.ImageFolder(data_dir, data_transforms)\n",
    "\n",
    "'''Define dataset loader'''\n",
    "dset_loader = torch.utils.data.DataLoader(dset, batch_size=batch_size, shuffle=False, num_workers=12)\n",
    "dset_classes = dset.classes\n"
   ]
  },
  {
   "cell_type": "code",
   "execution_count": null,
   "metadata": {
    "scrolled": true
   },
   "outputs": [],
   "source": [
    "# Check the first images\n",
    "\n",
    "import torchvision\n",
    "from matplotlib import pyplot as plt\n",
    "%matplotlib inline\n",
    "import functions.fine_tune as ft\n",
    "\n",
    "inputs, classes = next(iter(dset_loader))\n",
    "out = torchvision.utils.make_grid(inputs,nrow=8)\n",
    "print('Size of the input tensors in one batch after grid is  '+str(out.size()))\n",
    "plt.figure(figsize=(12,12))\n",
    "ft.imshow(out, title=[dset_classes[x] for x in classes])"
   ]
  },
  {
   "cell_type": "markdown",
   "metadata": {},
   "source": [
    "# Statistics and Creating an Error Analysis File"
   ]
  },
  {
   "cell_type": "code",
   "execution_count": 4,
   "metadata": {},
   "outputs": [
    {
     "name": "stdout",
     "output_type": "stream",
     "text": [
      "Loss functions are ['ccr', 'ccr1', 'mae', 'mse', 'cheng']\n",
      "CCR results are [0.344 0.24  0.344 0.256 0.376]\n",
      "CCR-1 results are [0.6   0.668 0.612 0.656 0.66 ]\n",
      "MAE results are [1.6   1.48  1.368 1.356 1.252]\n",
      "RMSE results are [2.423 2.088 1.966 1.83  1.849]\n"
     ]
    }
   ],
   "source": [
    "import numpy as np\n",
    "from torch.autograd import Variable\n",
    "from datetime import datetime\n",
    "import os\n",
    "\n",
    "save_imgs = False\n",
    "\n",
    "if save_imgs:\n",
    "    date_now = str(datetime.now())\n",
    "    os.makedirs('../Results/Eyeball logs/Images/' +str(date_now))\n",
    "    img_count = 0\n",
    "    \n",
    "preds = {name: np.zeros((0,1)) for name in models}\n",
    "labels = np.zeros((0,1))\n",
    "\n",
    "for data in dset_loader:\n",
    "    # get the inputs\n",
    "    inputs, label = data\n",
    "    inputs, label = inputs.to(device), label.to(device)\n",
    "    labels = np.append(labels, label.data.to('cpu').numpy().reshape(-1, 1), axis=0)\n",
    "    \n",
    "    imgs = inputs.data.to('cpu').numpy()\n",
    "    #print(inputs.data.to('cpu').shape)\n",
    "    if save_imgs:\n",
    "        for k in range(imgs.shape[0]):\n",
    "            img = imgs[k,:,:,:].transpose((1, 2, 0))\n",
    "            mean = np.array([0.485, 0.456, 0.406])\n",
    "            std = np.array([0.229, 0.224, 0.225])\n",
    "            img = std * img + mean\n",
    "            plt.imsave('../Results/Eyeball logs/Images/' + str(date_now) + '/' +\n",
    "                       str(img_count) + '.png', img)\n",
    "            img_count += 1\n",
    "    #for name, model in models.items():\n",
    "    \n",
    "    for name, model in models.items():\n",
    "        outputs = model(inputs)\n",
    "        if name is 'cheng':\n",
    "            pred = (outputs.data.to('cpu').numpy() > 0.0).astype(np.int)\n",
    "            pred = (np.sum(np.cumprod(pred, axis=1), axis=1) - 1).reshape(-1, 1)\n",
    "        else:\n",
    "            _, pred = torch.max(outputs.data, 1)\n",
    "            pred = pred.to('cpu').numpy().reshape(-1, 1)\n",
    "            \n",
    "        preds[name] = np.append(preds[name], pred, axis = 0)\n",
    "    # result_log.append((phase, epoch, labels.data.cpu().numpy(), outputs.data.cpu().numpy()))\n",
    "\n",
    "    \n",
    "errors = {name: preds[name]- labels for name in models}\n",
    "metrics = {'CCR': [np.mean(errors[name]==0) for name in models],\n",
    "          'CCR-1': [np.mean(np.abs(errors[name])<=1) for name in models],\n",
    "          'MAE': [np.mean(np.abs(errors[name])) for name in models],\n",
    "          'RMSE': [np.sqrt(np.mean(errors[name]**2)) for name in models]}\n",
    "\n",
    "print('Loss functions are ' + str(model_names))\n",
    "for name, metric in metrics.items():\n",
    "    print(name + ' results are ' + str(np.round(metrics[name], decimals=3)))\n"
   ]
  },
  {
   "cell_type": "code",
   "execution_count": null,
   "metadata": {
    "scrolled": true
   },
   "outputs": [],
   "source": [
    "preds_wiw = preds['cheng'].copy()\n",
    "preds_wiw[preds_wiw < preds['ccr1'] - 1] =  preds['ccr1'][preds_wiw < preds['ccr1'] - 1] - 1\n",
    "preds_wiw[preds_wiw > preds['ccr1'] + 1] =  preds['ccr1'][preds_wiw > preds['ccr1'] + 1] + 1\n",
    "\n",
    "err_wiw = preds_wiw - labels\n",
    "\n",
    "ccr_wiw = np.mean(err_wiw == 0)\n",
    "ccr1_wiw = np.mean(np.abs(err_wiw) <= 1)\n",
    "mae_wiw = np.mean(np.abs(err_wiw))\n",
    "rmse_wiw = np.sqrt(np.mean(err_wiw ** 2))\n",
    "\n",
    "print(ccr_wiw, ccr1_wiw, mae_wiw, rmse_wiw)\n",
    "\n",
    "out = np.zeros((len(preds_wiw),3))\n",
    "out[:, 0] = preds['ccr'].reshape(-1)\n",
    "out[:, 1] = preds['ccr1'].reshape(-1)\n",
    "out[:, 2] = preds_wiw.reshape(-1)\n",
    "\n",
    "#np.set_printoptions(threshold=20)\n",
    "print(out)\n"
   ]
  },
  {
   "cell_type": "code",
   "execution_count": 4,
   "metadata": {},
   "outputs": [
    {
     "ename": "NameError",
     "evalue": "name 'date_now' is not defined",
     "output_type": "error",
     "traceback": [
      "\u001b[0;31m---------------------------------------------------------------------------\u001b[0m",
      "\u001b[0;31mNameError\u001b[0m                                 Traceback (most recent call last)",
      "\u001b[0;32m<ipython-input-4-0b78d30211b1>\u001b[0m in \u001b[0;36m<module>\u001b[0;34m()\u001b[0m\n\u001b[1;32m      2\u001b[0m \u001b[0;34m\u001b[0m\u001b[0m\n\u001b[1;32m      3\u001b[0m \u001b[0;31m# Create a workbook and add a worksheet.\u001b[0m\u001b[0;34m\u001b[0m\u001b[0;34m\u001b[0m\u001b[0m\n\u001b[0;32m----> 4\u001b[0;31m \u001b[0mfname\u001b[0m \u001b[0;34m=\u001b[0m \u001b[0;34m'../Results/Eyeball logs/Logs/'\u001b[0m \u001b[0;34m+\u001b[0m \u001b[0mstr\u001b[0m\u001b[0;34m(\u001b[0m\u001b[0mdate_now\u001b[0m\u001b[0;34m)\u001b[0m \u001b[0;34m+\u001b[0m \u001b[0;34m'.xlsx'\u001b[0m\u001b[0;34m\u001b[0m\u001b[0m\n\u001b[0m\u001b[1;32m      5\u001b[0m \u001b[0mworkbook\u001b[0m \u001b[0;34m=\u001b[0m \u001b[0mxlsxwriter\u001b[0m\u001b[0;34m.\u001b[0m\u001b[0mWorkbook\u001b[0m\u001b[0;34m(\u001b[0m\u001b[0mfname\u001b[0m\u001b[0;34m)\u001b[0m\u001b[0;34m\u001b[0m\u001b[0m\n\u001b[1;32m      6\u001b[0m \u001b[0mworksheet\u001b[0m \u001b[0;34m=\u001b[0m \u001b[0mworkbook\u001b[0m\u001b[0;34m.\u001b[0m\u001b[0madd_worksheet\u001b[0m\u001b[0;34m(\u001b[0m\u001b[0;34m)\u001b[0m\u001b[0;34m\u001b[0m\u001b[0m\n",
      "\u001b[0;31mNameError\u001b[0m: name 'date_now' is not defined"
     ]
    }
   ],
   "source": [
    "import xlsxwriter\n",
    "\n",
    "# Create a workbook and add a worksheet.\n",
    "fname = '../Results/Eyeball logs/Logs/' + str(date_now) + '.xlsx'\n",
    "workbook = xlsxwriter.Workbook(fname)\n",
    "worksheet = workbook.add_worksheet()\n",
    "\n",
    "# Some data we want to write to the worksheet.\n",
    "expenses = (\n",
    "    ['Rent', 1000],\n",
    "    ['Gas',   100],\n",
    "    ['Food',  300],\n",
    "    ['Gym',    50],\n",
    ")\n",
    "\n",
    "# Start from the first cell. Rows and columns are zero indexed.\n",
    "row = 0\n",
    "col = 0\n",
    "\n",
    "# Iterate over the data and write it out row by row.\n",
    "worksheet.write(0,0, 'ID')\n",
    "worksheet.write(0,1, 'GT')\n",
    "worksheet.write(0,2, 'CCR')\n",
    "worksheet.write(0,3, 'CCR1')\n",
    "worksheet.write(0,4, 'MAE')\n",
    "worksheet.write(0,5, 'MSE')\n",
    "worksheet.write(0,6, 'CHENG')\n",
    "for k in range(len(labels)):\n",
    "    row = k+1\n",
    "    worksheet.write(row, 0, k)\n",
    "    worksheet.write(row, 1, labels[k])\n",
    "    worksheet.write(row, 2, preds['ccr'][k])\n",
    "    worksheet.write(row, 3, preds['ccr1'][k])\n",
    "    worksheet.write(row, 4, preds['mae'][k])\n",
    "    worksheet.write(row, 5, preds['mse'][k])\n",
    "    worksheet.write(row, 6, preds['cheng'][k])\n",
    "\n",
    "\n",
    "workbook.close()"
   ]
  },
  {
   "cell_type": "markdown",
   "metadata": {},
   "source": [
    "### Error histograms (Predcition - Ground Truth)"
   ]
  },
  {
   "cell_type": "code",
   "execution_count": 6,
   "metadata": {},
   "outputs": [
    {
     "data": {
      "image/png": "[encoded data removed]",
      "text/plain": [
       "<Figure size 1080x1440 with 5 Axes>"
      ]
     },
     "metadata": {},
     "output_type": "display_data"
    }
   ],
   "source": [
    "from matplotlib import pyplot as plt\n",
    "%matplotlib inline\n",
    "\n",
    "plt.figure(figsize = (15,20))\n",
    "n_plots = len(errors)\n",
    "\n",
    "k = 1\n",
    "for name, error in  errors.items():\n",
    "    plt.subplot(n_plots, 1, k)\n",
    "    plt.hist(error, bins = [k+0.5 for k in range(-12, 12)])\n",
    "    plt.title('Loss function is ' + str(name))\n",
    "    plt.ylim(0,100)\n",
    "    plt.grid()\n",
    "    k += 1\n",
    "    \n",
    "plt.savefig('Eyeball_histograms.png')\n",
    "    "
   ]
  }
 ],
 "metadata": {
  "kernelspec": {
   "display_name": "Python 3",
   "language": "python",
   "name": "python3"
  },
  "language_info": {
   "codemirror_mode": {
    "name": "ipython",
    "version": 3
   },
   "file_extension": ".py",
   "mimetype": "text/x-python",
   "name": "python",
   "nbconvert_exporter": "python",
   "pygments_lexer": "ipython3",
   "version": "3.6.5"
  }
 },
 "nbformat": 4,
 "nbformat_minor": 2
}
