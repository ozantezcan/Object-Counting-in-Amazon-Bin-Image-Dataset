{
 "cells": [
  {
   "cell_type": "code",
   "execution_count": 15,
   "metadata": {
    "collapsed": false
   },
   "outputs": [],
   "source": [
    "%matplotlib inline\n",
    "\n",
    "import shutil\n",
    "import json\n",
    "import os\n",
    "import numpy as np\n",
    "import matplotlib.pyplot as plt"
   ]
  },
  {
   "cell_type": "code",
   "execution_count": 19,
   "metadata": {
    "collapsed": false
   },
   "outputs": [],
   "source": [
    "import os\n",
    "root_dir='../bin_images/'\n",
    "for i in range(10):\n",
    "    os.makedirs(root_dir+str(i))\n",
    "os.makedirs(root_dir+'10plus')"
   ]
  },
  {
   "cell_type": "code",
   "execution_count": 26,
   "metadata": {
    "collapsed": false
   },
   "outputs": [],
   "source": [
    "metadata_dir='../bin_images/metadata'\n",
    "images_dir='../bin_images'\n",
    "\n",
    "json_dirs=os.listdir(metadata_dir)\n",
    "\n",
    "for json_dir in json_dirs:\n",
    "    json_file=open(metadata_dir+'/'+json_dir)\n",
    "    metadata = json.load(json_file)\n",
    "    object_count = metadata['EXPECTED_QUANTITY']\n",
    "    \n",
    "    img_dir=images_dir+'/'+json_dir[:-4]+'jpg'\n",
    "    if(object_count<10):\n",
    "        new_img_dir=images_dir+'/'+str(object_count)+'/'+json_dir[:-4]+'jpg'\n",
    "    else:\n",
    "        new_img_dir=images_dir+'/10plus/'+json_dir[:-4]+'jpg'\n",
    "    shutil.move(img_dir,new_img_dir)\n",
    "    "
   ]
  }
 ],
 "metadata": {
  "kernelspec": {
   "display_name": "Python 3",
   "language": "python",
   "name": "python3"
  },
  "language_info": {
   "codemirror_mode": {
    "name": "ipython",
    "version": 3
   },
   "file_extension": ".py",
   "mimetype": "text/x-python",
   "name": "python",
   "nbconvert_exporter": "python",
   "pygments_lexer": "ipython3",
   "version": "3.6.0"
  }
 },
 "nbformat": 4,
 "nbformat_minor": 2
}
